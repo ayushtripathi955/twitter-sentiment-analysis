{
 "cells": [
  {
   "cell_type": "code",
   "execution_count": 0,
   "metadata": {
    "colab": {
     "base_uri": "https://localhost:8080/",
     "height": 190
    },
    "colab_type": "code",
    "id": "obBN4d5paAHn",
    "outputId": "b7feb181-7e09-4190-b8b5-3ad48ed8aab2"
   },
   "outputs": [
    {
     "name": "stdout",
     "output_type": "stream",
     "text": [
      "Collecting GetOldTweets3\n",
      "  Downloading https://files.pythonhosted.org/packages/ed/f4/a00c2a7c90801abc875325bb5416ce9090ac86d06a00cc887131bd73ba45/GetOldTweets3-0.0.11-py3-none-any.whl\n",
      "Collecting pyquery>=1.2.10\n",
      "  Downloading https://files.pythonhosted.org/packages/78/43/95d42e386c61cb639d1a0b94f0c0b9f0b7d6b981ad3c043a836c8b5bc68b/pyquery-1.4.1-py2.py3-none-any.whl\n",
      "Requirement already satisfied: lxml>=3.5.0 in /usr/local/lib/python3.6/dist-packages (from GetOldTweets3) (4.2.6)\n",
      "Collecting cssselect>0.7.9\n",
      "  Downloading https://files.pythonhosted.org/packages/3b/d4/3b5c17f00cce85b9a1e6f91096e1cc8e8ede2e1be8e96b87ce1ed09e92c5/cssselect-1.1.0-py2.py3-none-any.whl\n",
      "Installing collected packages: cssselect, pyquery, GetOldTweets3\n",
      "Successfully installed GetOldTweets3-0.0.11 cssselect-1.1.0 pyquery-1.4.1\n"
     ]
    }
   ],
   "source": [
    "#!pip install GetOldTweets3"
   ]
  },
  {
   "cell_type": "code",
   "execution_count": 0,
   "metadata": {
    "colab": {},
    "colab_type": "code",
    "id": "e2HW4gzZrGOm"
   },
   "outputs": [],
   "source": [
    "import GetOldTweets3 as got\n",
    "import pandas as pd"
   ]
  },
  {
   "cell_type": "markdown",
   "metadata": {
    "colab_type": "text",
    "id": "xqQnofJ-JA39"
   },
   "source": [
    "## Iterate to get 1000 top tweets for each day\n",
    "If you want to get all the tweets in a time period and set a big number for maxtweets for the period, it will just give you the tweets on one or two days in that period. Because there are too many tweets every day."
   ]
  },
  {
   "cell_type": "code",
   "execution_count": 0,
   "metadata": {
    "colab": {},
    "colab_type": "code",
    "id": "ceQn4ont_L2N"
   },
   "outputs": [],
   "source": [
    "days = [\"%.2d\" % i for i in range(1,31)]"
   ]
  },
  {
   "cell_type": "code",
   "execution_count": 61,
   "metadata": {
    "colab": {
     "base_uri": "https://localhost:8080/",
     "height": 493
    },
    "colab_type": "code",
    "id": "nLKCTmAEaJ-b",
    "outputId": "71168ea1-8c7f-48a1-faca-f50f27374663"
   },
   "outputs": [
    {
     "name": "stdout",
     "output_type": "stream",
     "text": [
      "1000\n",
      "Finished: 1\n",
      "1000\n",
      "Finished: 2\n",
      "1000\n",
      "Finished: 3\n",
      "1000\n",
      "Finished: 4\n",
      "1000\n",
      "Finished: 5\n",
      "1000\n",
      "Finished: 6\n",
      "1000\n",
      "Finished: 7\n",
      "1000\n",
      "Finished: 8\n",
      "1000\n",
      "Finished: 9\n",
      "1000\n",
      "Finished: 10\n",
      "1000\n",
      "Finished: 11\n",
      "1000\n",
      "Finished: 12\n",
      "1000\n",
      "Finished: 13\n",
      "1000\n",
      "Finished: 14\n"
     ]
    }
   ],
   "source": [
    "Twitter=[]\n",
    "\n",
    "for i in range(28,29):\n",
    "  tweetCriteria = got.manager.TweetCriteria().setQuerySearch('COVID')\\\n",
    "                                            .setSince(\"2020-04-\"+days[i])\\\n",
    "                                            .setUntil(\"2020-04-\"+days[i+1])\\\n",
    "                                            .setMaxTweets(1000)\\\n",
    "                                            .setTopTweets(True)\n",
    "                                            #.setNear(\"CA\")\n",
    "                                            #.setWithin(\"100mi\")\n",
    "\n",
    "  tweets = got.manager.TweetManager.getTweets(tweetCriteria)\n",
    "  tweet = [t for t in tweets]\n",
    "  print(len(tweet))\n",
    "  Twitter.append(tweet)\n",
    "  print(\"Finished:\", len(Twitter))\n",
    "  "
   ]
  },
  {
   "cell_type": "code",
   "execution_count": 62,
   "metadata": {
    "colab": {
     "base_uri": "https://localhost:8080/",
     "height": 34
    },
    "colab_type": "code",
    "id": "wFzdQAKK_Zoz",
    "outputId": "692efa7b-77c1-4524-8193-d09a59530791"
   },
   "outputs": [
    {
     "data": {
      "text/plain": [
       "14"
      ]
     },
     "execution_count": 62,
     "metadata": {
      "tags": []
     },
     "output_type": "execute_result"
    }
   ],
   "source": [
    "len(Twitter)"
   ]
  },
  {
   "cell_type": "code",
   "execution_count": 0,
   "metadata": {
    "colab": {},
    "colab_type": "code",
    "id": "VmQrtYZyDrZ2"
   },
   "outputs": [],
   "source": [
    "text = []\n",
    "created_at = []\n",
    "tweet_id = []\n",
    "user = []\n",
    "retweets = []\n",
    "favorites = []\n",
    "hashtags = []\n",
    "location = []\n",
    "\n",
    "for tweets in Twitter:\n",
    "  for post in tweets:\n",
    "    text.append(post.text)\n",
    "    created_at.append(post.date)\n",
    "    tweet_id.append(post.id)\n",
    "    user.append(post.username)\n",
    "    retweets.append(post.retweets)\n",
    "    favorites.append(post.favorites)\n",
    "    hashtags.append(post.hashtags)\n",
    "    location.append(post.geo)"
   ]
  },
  {
   "cell_type": "code",
   "execution_count": 64,
   "metadata": {
    "colab": {
     "base_uri": "https://localhost:8080/",
     "height": 289
    },
    "colab_type": "code",
    "id": "chJXVBpwafZt",
    "outputId": "0e6e0358-b666-495c-a5cc-5803b00d54f1"
   },
   "outputs": [
    {
     "data": {
      "text/html": [
       "<div>\n",
       "<style scoped>\n",
       "    .dataframe tbody tr th:only-of-type {\n",
       "        vertical-align: middle;\n",
       "    }\n",
       "\n",
       "    .dataframe tbody tr th {\n",
       "        vertical-align: top;\n",
       "    }\n",
       "\n",
       "    .dataframe thead th {\n",
       "        text-align: right;\n",
       "    }\n",
       "</style>\n",
       "<table border=\"1\" class=\"dataframe\">\n",
       "  <thead>\n",
       "    <tr style=\"text-align: right;\">\n",
       "      <th></th>\n",
       "      <th>tweet_id</th>\n",
       "      <th>user</th>\n",
       "      <th>text</th>\n",
       "      <th>retweets</th>\n",
       "      <th>favorites</th>\n",
       "      <th>created_at</th>\n",
       "      <th>location</th>\n",
       "      <th>hashtags</th>\n",
       "    </tr>\n",
       "  </thead>\n",
       "  <tbody>\n",
       "    <tr>\n",
       "      <th>0</th>\n",
       "      <td>1250574612309651464</td>\n",
       "      <td>KaitMarieox</td>\n",
       "      <td>One day after CNN ran Chinese propaganda, its ...</td>\n",
       "      <td>3412</td>\n",
       "      <td>11861</td>\n",
       "      <td>2020-04-15 23:59:56+00:00</td>\n",
       "      <td></td>\n",
       "      <td></td>\n",
       "    </tr>\n",
       "    <tr>\n",
       "      <th>1</th>\n",
       "      <td>1250574570496589834</td>\n",
       "      <td>the50gram</td>\n",
       "      <td>Thinking of the life I’d be living if not for ...</td>\n",
       "      <td>28</td>\n",
       "      <td>80</td>\n",
       "      <td>2020-04-15 23:59:46+00:00</td>\n",
       "      <td></td>\n",
       "      <td></td>\n",
       "    </tr>\n",
       "    <tr>\n",
       "      <th>2</th>\n",
       "      <td>1250574507410173952</td>\n",
       "      <td>NickKristof</td>\n",
       "      <td>The word \"heartbreaking\" is thrown around a lo...</td>\n",
       "      <td>68</td>\n",
       "      <td>143</td>\n",
       "      <td>2020-04-15 23:59:31+00:00</td>\n",
       "      <td></td>\n",
       "      <td></td>\n",
       "    </tr>\n",
       "    <tr>\n",
       "      <th>3</th>\n",
       "      <td>1250574456235470850</td>\n",
       "      <td>CBR</td>\n",
       "      <td>Marvel, DC Effects Studio Shifts to Creating M...</td>\n",
       "      <td>66</td>\n",
       "      <td>219</td>\n",
       "      <td>2020-04-15 23:59:19+00:00</td>\n",
       "      <td></td>\n",
       "      <td></td>\n",
       "    </tr>\n",
       "    <tr>\n",
       "      <th>4</th>\n",
       "      <td>1250574403177312256</td>\n",
       "      <td>kcmetrobus</td>\n",
       "      <td>At noon (PST) Thursday, April 16, Metro will #...</td>\n",
       "      <td>15</td>\n",
       "      <td>28</td>\n",
       "      <td>2020-04-15 23:59:06+00:00</td>\n",
       "      <td></td>\n",
       "      <td>#SoundTheHorn #HeroesMovingHeroes</td>\n",
       "    </tr>\n",
       "  </tbody>\n",
       "</table>\n",
       "</div>"
      ],
      "text/plain": [
       "              tweet_id         user  ... location                           hashtags\n",
       "0  1250574612309651464  KaitMarieox  ...                                            \n",
       "1  1250574570496589834    the50gram  ...                                            \n",
       "2  1250574507410173952  NickKristof  ...                                            \n",
       "3  1250574456235470850          CBR  ...                                            \n",
       "4  1250574403177312256   kcmetrobus  ...           #SoundTheHorn #HeroesMovingHeroes\n",
       "\n",
       "[5 rows x 8 columns]"
      ]
     },
     "execution_count": 64,
     "metadata": {
      "tags": []
     },
     "output_type": "execute_result"
    }
   ],
   "source": [
    "d = {'tweet_id': tweet_id, 'user': user, 'text': text, 'retweets': retweets, \n",
    "     'favorites': favorites, 'created_at': created_at, 'location':location, 'hashtags':hashtags}\n",
    "\n",
    "df_tweets = pd.concat([pd.Series(v, name=k) for k, v in d.items()], axis=1)\n",
    "\n",
    "df_tweets.head()"
   ]
  },
  {
   "cell_type": "code",
   "execution_count": 65,
   "metadata": {
    "colab": {
     "base_uri": "https://localhost:8080/",
     "height": 589
    },
    "colab_type": "code",
    "id": "R5QDFOyQauZ-",
    "outputId": "a652ad99-6a89-4ef3-bc61-73c3f6d475fe"
   },
   "outputs": [
    {
     "data": {
      "text/html": [
       "<div>\n",
       "<style scoped>\n",
       "    .dataframe tbody tr th:only-of-type {\n",
       "        vertical-align: middle;\n",
       "    }\n",
       "\n",
       "    .dataframe tbody tr th {\n",
       "        vertical-align: top;\n",
       "    }\n",
       "\n",
       "    .dataframe thead th {\n",
       "        text-align: right;\n",
       "    }\n",
       "</style>\n",
       "<table border=\"1\" class=\"dataframe\">\n",
       "  <thead>\n",
       "    <tr style=\"text-align: right;\">\n",
       "      <th></th>\n",
       "      <th>tweet_id</th>\n",
       "      <th>user</th>\n",
       "      <th>text</th>\n",
       "      <th>retweets</th>\n",
       "      <th>favorites</th>\n",
       "      <th>created_at</th>\n",
       "      <th>location</th>\n",
       "      <th>hashtags</th>\n",
       "    </tr>\n",
       "  </thead>\n",
       "  <tbody>\n",
       "    <tr>\n",
       "      <th>999</th>\n",
       "      <td>1250539410594181122</td>\n",
       "      <td>ItsRonaye</td>\n",
       "      <td>12 hours later and I’ve also beat COVID-19, th...</td>\n",
       "      <td>257</td>\n",
       "      <td>1275</td>\n",
       "      <td>2020-04-15 21:40:04+00:00</td>\n",
       "      <td></td>\n",
       "      <td></td>\n",
       "    </tr>\n",
       "    <tr>\n",
       "      <th>998</th>\n",
       "      <td>1250539436355584002</td>\n",
       "      <td>jburnmurdoch</td>\n",
       "      <td>The picture in the UK is less clear: • Covid-1...</td>\n",
       "      <td>139</td>\n",
       "      <td>298</td>\n",
       "      <td>2020-04-15 21:40:10+00:00</td>\n",
       "      <td></td>\n",
       "      <td></td>\n",
       "    </tr>\n",
       "    <tr>\n",
       "      <th>997</th>\n",
       "      <td>1250539468072812553</td>\n",
       "      <td>RosieBarton</td>\n",
       "      <td>Part-time, contract and seasonal workers now q...</td>\n",
       "      <td>8</td>\n",
       "      <td>32</td>\n",
       "      <td>2020-04-15 21:40:17+00:00</td>\n",
       "      <td></td>\n",
       "      <td></td>\n",
       "    </tr>\n",
       "    <tr>\n",
       "      <th>996</th>\n",
       "      <td>1250539502990491649</td>\n",
       "      <td>jburnmurdoch</td>\n",
       "      <td>Back to the main charts: Things to note: • Dai...</td>\n",
       "      <td>29</td>\n",
       "      <td>87</td>\n",
       "      <td>2020-04-15 21:40:26+00:00</td>\n",
       "      <td></td>\n",
       "      <td></td>\n",
       "    </tr>\n",
       "    <tr>\n",
       "      <th>995</th>\n",
       "      <td>1250539524599488517</td>\n",
       "      <td>AfamDeluxo</td>\n",
       "      <td>The world will never remain the same after thi...</td>\n",
       "      <td>13</td>\n",
       "      <td>35</td>\n",
       "      <td>2020-04-15 21:40:31+00:00</td>\n",
       "      <td></td>\n",
       "      <td></td>\n",
       "    </tr>\n",
       "    <tr>\n",
       "      <th>...</th>\n",
       "      <td>...</td>\n",
       "      <td>...</td>\n",
       "      <td>...</td>\n",
       "      <td>...</td>\n",
       "      <td>...</td>\n",
       "      <td>...</td>\n",
       "      <td>...</td>\n",
       "      <td>...</td>\n",
       "    </tr>\n",
       "    <tr>\n",
       "      <th>13003</th>\n",
       "      <td>1255285578666573824</td>\n",
       "      <td>EconCharlie</td>\n",
       "      <td>Remember when deficits rose by 14% of GDP at t...</td>\n",
       "      <td>11</td>\n",
       "      <td>36</td>\n",
       "      <td>2020-04-28 23:59:38+00:00</td>\n",
       "      <td></td>\n",
       "      <td></td>\n",
       "    </tr>\n",
       "    <tr>\n",
       "      <th>13001</th>\n",
       "      <td>1255285615756816388</td>\n",
       "      <td>dirquez</td>\n",
       "      <td>No one knows how hard Oregon's budget will be ...</td>\n",
       "      <td>14</td>\n",
       "      <td>9</td>\n",
       "      <td>2020-04-28 23:59:47+00:00</td>\n",
       "      <td></td>\n",
       "      <td>#orpol</td>\n",
       "    </tr>\n",
       "    <tr>\n",
       "      <th>13021</th>\n",
       "      <td>1255285644324208647</td>\n",
       "      <td>rnz_news</td>\n",
       "      <td>Watch live: Foreign Minister Winston Peters on...</td>\n",
       "      <td>4</td>\n",
       "      <td>8</td>\n",
       "      <td>2020-04-28 23:59:54+00:00</td>\n",
       "      <td></td>\n",
       "      <td></td>\n",
       "    </tr>\n",
       "    <tr>\n",
       "      <th>13020</th>\n",
       "      <td>1255285646601654274</td>\n",
       "      <td>MacArthurStuCo</td>\n",
       "      <td>Tip #2 of 19 tips for living with COVID-19.</td>\n",
       "      <td>5</td>\n",
       "      <td>12</td>\n",
       "      <td>2020-04-28 23:59:54+00:00</td>\n",
       "      <td></td>\n",
       "      <td></td>\n",
       "    </tr>\n",
       "    <tr>\n",
       "      <th>13000</th>\n",
       "      <td>1255285654587682817</td>\n",
       "      <td>NNPrezNez</td>\n",
       "      <td>REMINDER: COVID-19 Updates will be broadcast t...</td>\n",
       "      <td>13</td>\n",
       "      <td>35</td>\n",
       "      <td>2020-04-28 23:59:56+00:00</td>\n",
       "      <td></td>\n",
       "      <td></td>\n",
       "    </tr>\n",
       "  </tbody>\n",
       "</table>\n",
       "<p>14000 rows × 8 columns</p>\n",
       "</div>"
      ],
      "text/plain": [
       "                  tweet_id            user  ... location  hashtags\n",
       "999    1250539410594181122       ItsRonaye  ...                   \n",
       "998    1250539436355584002    jburnmurdoch  ...                   \n",
       "997    1250539468072812553     RosieBarton  ...                   \n",
       "996    1250539502990491649    jburnmurdoch  ...                   \n",
       "995    1250539524599488517      AfamDeluxo  ...                   \n",
       "...                    ...             ...  ...      ...       ...\n",
       "13003  1255285578666573824     EconCharlie  ...                   \n",
       "13001  1255285615756816388         dirquez  ...             #orpol\n",
       "13021  1255285644324208647        rnz_news  ...                   \n",
       "13020  1255285646601654274  MacArthurStuCo  ...                   \n",
       "13000  1255285654587682817       NNPrezNez  ...                   \n",
       "\n",
       "[14000 rows x 8 columns]"
      ]
     },
     "execution_count": 65,
     "metadata": {
      "tags": []
     },
     "output_type": "execute_result"
    }
   ],
   "source": [
    "df_tweets.sort_values(['created_at'])"
   ]
  },
  {
   "cell_type": "code",
   "execution_count": 0,
   "metadata": {
    "colab": {},
    "colab_type": "code",
    "id": "AFoMpvtFax2m"
   },
   "outputs": [],
   "source": [
    "df_tweets.to_csv('COVID.csv')"
   ]
  }
 ],
 "metadata": {
  "colab": {
   "collapsed_sections": [],
   "name": "GetOldTweets3_0509.ipynb",
   "provenance": [],
   "toc_visible": true
  },
  "kernelspec": {
   "display_name": "Python 3",
   "language": "python",
   "name": "python3"
  },
  "language_info": {
   "codemirror_mode": {
    "name": "ipython",
    "version": 3
   },
   "file_extension": ".py",
   "mimetype": "text/x-python",
   "name": "python",
   "nbconvert_exporter": "python",
   "pygments_lexer": "ipython3",
   "version": "3.7.3"
  }
 },
 "nbformat": 4,
 "nbformat_minor": 1
}
